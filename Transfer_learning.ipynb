{
 "cells": [
  {
   "cell_type": "markdown",
   "id": "09a56c22-47a1-482b-8b1e-ba658e172895",
   "metadata": {},
   "source": [
    "## Necessary Imports "
   ]
  },
  {
   "cell_type": "code",
   "execution_count": 1,
   "id": "cb49d2c1-226d-434a-885e-e3d153bbe485",
   "metadata": {},
   "outputs": [],
   "source": [
    "import numpy as np\n",
    "import cv2\n",
    "import matplotlib.pyplot as plt\n",
    "import seaborn as sns\n",
    "from sklearn.model_selection import train_test_split\n",
    "import os\n",
    "import pandas as pd\n",
    "import glob\n",
    "from tqdm import tqdm\n",
    "from sklearn.preprocessing import OneHotEncoder\n",
    "import torch.nn as nn\n",
    "import torch.nn.functional as F\n",
    "import torch.optim as optim\n",
    "from torchsummary import summary\n",
    "import torch\n",
    "from torch.utils.data import DataLoader, TensorDataset\n",
    "from torch.nn import Conv2d,ReLU,MaxPool2d,Linear,Dropout,Sequential"
   ]
  },
  {
   "cell_type": "code",
   "execution_count": 2,
   "id": "0be2367f-976c-44ca-97db-0de2d2fea267",
   "metadata": {},
   "outputs": [],
   "source": [
    "dataset = 'DATASET/'"
   ]
  },
  {
   "cell_type": "markdown",
   "id": "027a4612-f31a-420b-bed8-d7048c39e167",
   "metadata": {},
   "source": [
    "## Data Preparation"
   ]
  },
  {
   "cell_type": "code",
   "execution_count": 3,
   "id": "f317f80f-aaa2-4296-8667-76048accc12b",
   "metadata": {},
   "outputs": [
    {
     "data": {
      "text/html": [
       "<div>\n",
       "<style scoped>\n",
       "    .dataframe tbody tr th:only-of-type {\n",
       "        vertical-align: middle;\n",
       "    }\n",
       "\n",
       "    .dataframe tbody tr th {\n",
       "        vertical-align: top;\n",
       "    }\n",
       "\n",
       "    .dataframe thead th {\n",
       "        text-align: right;\n",
       "    }\n",
       "</style>\n",
       "<table border=\"1\" class=\"dataframe\">\n",
       "  <thead>\n",
       "    <tr style=\"text-align: right;\">\n",
       "      <th></th>\n",
       "      <th>dirname</th>\n",
       "      <th>path</th>\n",
       "    </tr>\n",
       "  </thead>\n",
       "  <tbody>\n",
       "    <tr>\n",
       "      <th>0</th>\n",
       "      <td>tree</td>\n",
       "      <td>DATASET//TRAIN/tree/00000106.jpg</td>\n",
       "    </tr>\n",
       "    <tr>\n",
       "      <th>1</th>\n",
       "      <td>tree</td>\n",
       "      <td>DATASET//TRAIN/tree/00000085.jpg</td>\n",
       "    </tr>\n",
       "    <tr>\n",
       "      <th>2</th>\n",
       "      <td>tree</td>\n",
       "      <td>DATASET//TRAIN/tree/00000098.jpg</td>\n",
       "    </tr>\n",
       "    <tr>\n",
       "      <th>3</th>\n",
       "      <td>tree</td>\n",
       "      <td>DATASET//TRAIN/tree/File10.jpg</td>\n",
       "    </tr>\n",
       "    <tr>\n",
       "      <th>4</th>\n",
       "      <td>tree</td>\n",
       "      <td>DATASET//TRAIN/tree/00000090.png</td>\n",
       "    </tr>\n",
       "  </tbody>\n",
       "</table>\n",
       "</div>"
      ],
      "text/plain": [
       "  dirname                              path\n",
       "0    tree  DATASET//TRAIN/tree/00000106.jpg\n",
       "1    tree  DATASET//TRAIN/tree/00000085.jpg\n",
       "2    tree  DATASET//TRAIN/tree/00000098.jpg\n",
       "3    tree    DATASET//TRAIN/tree/File10.jpg\n",
       "4    tree  DATASET//TRAIN/tree/00000090.png"
      ]
     },
     "execution_count": 3,
     "metadata": {},
     "output_type": "execute_result"
    }
   ],
   "source": [
    "data_map = []\n",
    "for sub_dir_path in glob.glob(dataset+\"/TRAIN/\"+\"*\"):\n",
    "    if os.path.isdir(sub_dir_path):\n",
    "        dirname = sub_dir_path.split(\"/\")[-1]\n",
    "        for filename in os.listdir(sub_dir_path):\n",
    "            image_path = sub_dir_path + \"/\" + filename\n",
    "            data_map.extend([dirname, image_path])\n",
    "    else:\n",
    "        print(\"This is not a dir:\", sub_dir_path)\n",
    "        \n",
    "        \n",
    "df = pd.DataFrame({\"dirname\" : data_map[::2],\n",
    "                  \"path\" : data_map[1::2]})\n",
    "df.head()"
   ]
  },
  {
   "cell_type": "code",
   "execution_count": 4,
   "id": "be76390a-15a1-4f8d-96c6-e4ae2d2a2492",
   "metadata": {},
   "outputs": [
    {
     "data": {
      "text/html": [
       "<div>\n",
       "<style scoped>\n",
       "    .dataframe tbody tr th:only-of-type {\n",
       "        vertical-align: middle;\n",
       "    }\n",
       "\n",
       "    .dataframe tbody tr th {\n",
       "        vertical-align: top;\n",
       "    }\n",
       "\n",
       "    .dataframe thead th {\n",
       "        text-align: right;\n",
       "    }\n",
       "</style>\n",
       "<table border=\"1\" class=\"dataframe\">\n",
       "  <thead>\n",
       "    <tr style=\"text-align: right;\">\n",
       "      <th></th>\n",
       "      <th>dirname</th>\n",
       "      <th>path</th>\n",
       "    </tr>\n",
       "  </thead>\n",
       "  <tbody>\n",
       "    <tr>\n",
       "      <th>0</th>\n",
       "      <td>tree</td>\n",
       "      <td>DATASET//TEST/tree/00000026.jpg</td>\n",
       "    </tr>\n",
       "    <tr>\n",
       "      <th>1</th>\n",
       "      <td>tree</td>\n",
       "      <td>DATASET//TEST/tree/00000001.jpg</td>\n",
       "    </tr>\n",
       "    <tr>\n",
       "      <th>2</th>\n",
       "      <td>tree</td>\n",
       "      <td>DATASET//TEST/tree/00000010.jpg</td>\n",
       "    </tr>\n",
       "    <tr>\n",
       "      <th>3</th>\n",
       "      <td>tree</td>\n",
       "      <td>DATASET//TEST/tree/00000061.jpg</td>\n",
       "    </tr>\n",
       "    <tr>\n",
       "      <th>4</th>\n",
       "      <td>tree</td>\n",
       "      <td>DATASET//TEST/tree/00000054.jpg</td>\n",
       "    </tr>\n",
       "  </tbody>\n",
       "</table>\n",
       "</div>"
      ],
      "text/plain": [
       "  dirname                             path\n",
       "0    tree  DATASET//TEST/tree/00000026.jpg\n",
       "1    tree  DATASET//TEST/tree/00000001.jpg\n",
       "2    tree  DATASET//TEST/tree/00000010.jpg\n",
       "3    tree  DATASET//TEST/tree/00000061.jpg\n",
       "4    tree  DATASET//TEST/tree/00000054.jpg"
      ]
     },
     "execution_count": 4,
     "metadata": {},
     "output_type": "execute_result"
    }
   ],
   "source": [
    "data_map = []\n",
    "for sub_dir_path in glob.glob(dataset+\"/TEST/\"+\"*\"):\n",
    "    if os.path.isdir(sub_dir_path):\n",
    "        dirname = sub_dir_path.split(\"/\")[-1]\n",
    "        for filename in os.listdir(sub_dir_path):\n",
    "            image_path = sub_dir_path + \"/\" + filename\n",
    "            data_map.extend([dirname, image_path])\n",
    "    else:\n",
    "        print(\"This is not a dir:\", sub_dir_path)\n",
    "        \n",
    "        \n",
    "df_test = pd.DataFrame({\"dirname\" : data_map[::2],\n",
    "                  \"path\" : data_map[1::2]})\n",
    "df_test.head()"
   ]
  },
  {
   "cell_type": "code",
   "execution_count": 5,
   "id": "9d16ee37-96d2-4cdb-99ef-a97858a55db4",
   "metadata": {},
   "outputs": [
    {
     "name": "stdout",
     "output_type": "stream",
     "text": [
      "X shape (1200, 128, 128, 3)\n",
      "Y shape (1200,)\n"
     ]
    }
   ],
   "source": [
    "x_train = np.zeros((len(df.path),128,128,3),dtype=np.uint8)\n",
    "y_train = df.dirname.values\n",
    "print(\"X shape\",x_train.shape)\n",
    "print(\"Y shape\",y_train.shape)"
   ]
  },
  {
   "cell_type": "code",
   "execution_count": 6,
   "id": "38002208-b04e-4f9f-98c7-4b0ddf0992bb",
   "metadata": {},
   "outputs": [
    {
     "name": "stderr",
     "output_type": "stream",
     "text": [
      "  2%|▉                                       | 28/1200 [00:00<00:12, 95.74it/s]Premature end of JPEG file\n",
      " 12%|████▌                                 | 143/1200 [00:01<00:08, 130.26it/s]Corrupt JPEG data: premature end of data segment\n",
      "100%|█████████████████████████████████████| 1200/1200 [00:05<00:00, 227.23it/s]\n"
     ]
    }
   ],
   "source": [
    "for n,id_ in tqdm(enumerate(df.path),total=len(df.path)):\n",
    "    img = cv2.imread(id_)\n",
    "    img = cv2.resize(img,(128,128))\n",
    "    x_train[n] = img/255."
   ]
  },
  {
   "cell_type": "code",
   "execution_count": 7,
   "id": "b237b4ea-7057-4c66-a4bb-36d4a0e18808",
   "metadata": {},
   "outputs": [
    {
     "name": "stdout",
     "output_type": "stream",
     "text": [
      "X shape (1200, 128, 128, 3)\n",
      "Y shape (1200,)\n"
     ]
    }
   ],
   "source": [
    "x_test = np.zeros((len(df_test.path),128,128,3),dtype=np.uint8)\n",
    "y_test = df_test.dirname.values\n",
    "print(\"X shape\",x_train.shape)\n",
    "print(\"Y shape\",y_train.shape)"
   ]
  },
  {
   "cell_type": "code",
   "execution_count": 8,
   "id": "02ec19d1-d3e5-4b76-a7e6-2f6941c67613",
   "metadata": {},
   "outputs": [
    {
     "name": "stdout",
     "output_type": "stream",
     "text": [
      "X shape (574, 128, 128, 3)\n",
      "Y shape (574,)\n"
     ]
    },
    {
     "name": "stderr",
     "output_type": "stream",
     "text": [
      "  3%|█▏                                      | 17/574 [00:00<00:03, 152.55it/s]libpng warning: iCCP: known incorrect sRGB profile\n",
      "libpng warning: iCCP: known incorrect sRGB profile\n",
      " 15%|██████                                   | 85/574 [00:01<00:05, 83.37it/s]libpng warning: iCCP: known incorrect sRGB profile\n",
      "100%|███████████████████████████████████████| 574/574 [00:04<00:00, 139.60it/s]\n"
     ]
    }
   ],
   "source": [
    "x_test = np.zeros((len(df_test.path),128,128,3),dtype=np.uint8)\n",
    "y_test = df_test.dirname.values\n",
    "print(\"X shape\",x_test.shape)\n",
    "print(\"Y shape\",y_test.shape)\n",
    "for n,id_ in tqdm(enumerate(df_test.path),total=len(df_test.path)):\n",
    "    img = cv2.imread(id_)\n",
    "    img = cv2.resize(img,(128,128))\n",
    "    x_test[n] = img/255."
   ]
  },
  {
   "cell_type": "markdown",
   "id": "eb7c1e41-d6ec-4cd2-8324-0b8fbe224c81",
   "metadata": {},
   "source": [
    "## One Hot Encoding String labels to numbers"
   ]
  },
  {
   "cell_type": "code",
   "execution_count": 9,
   "id": "7b5208e8-392b-407c-b2a9-fb58153c9be8",
   "metadata": {},
   "outputs": [],
   "source": [
    "enc = OneHotEncoder()\n",
    "y_train = enc.fit_transform(y_train.reshape(-1,1)).toarray()\n",
    "y_test = enc.fit_transform(y_test.reshape(-1,1)).toarray()"
   ]
  },
  {
   "cell_type": "code",
   "execution_count": 10,
   "id": "9a8ed5f4-bfb8-4faa-a378-c6d920dd09c6",
   "metadata": {},
   "outputs": [],
   "source": [
    "x_train,x_val,y_train,y_val = train_test_split(x_train,y_train,test_size=0.2)"
   ]
  },
  {
   "cell_type": "markdown",
   "id": "639a83e9-f84c-46e4-b96f-ca06fbb0833a",
   "metadata": {},
   "source": [
    "## Converting numpy dataset to Pytorch Tensors"
   ]
  },
  {
   "cell_type": "code",
   "execution_count": 11,
   "id": "09af3904-613e-420d-89ab-a742e5133ae1",
   "metadata": {},
   "outputs": [],
   "source": [
    "x_train_tensor = torch.from_numpy(x_train).float()\n",
    "train_y_tensor = torch.from_numpy(y_train).float()\n",
    "x_train_tensor = x_train_tensor.permute(0, 3, 1, 2)\n",
    "\n",
    "x_val_tensor = torch.from_numpy(x_val).float()\n",
    "val_y_tensor = torch.from_numpy(y_val).float()\n",
    "x_val_tensor = x_val_tensor.permute(0, 3, 1, 2)\n",
    "\n",
    "train_dataset = TensorDataset(x_train_tensor, train_y_tensor)\n",
    "val_dataset = TensorDataset(x_val_tensor,val_y_tensor)\n",
    "\n",
    "batch_size = 32  \n",
    "train_loader = DataLoader(train_dataset, batch_size=batch_size, shuffle=True)\n",
    "val_loader = DataLoader(val_dataset, batch_size=batch_size,shuffle=True)"
   ]
  },
  {
   "cell_type": "markdown",
   "id": "fcb0f880-14be-47ac-9cf0-11f1690a478e",
   "metadata": {},
   "source": [
    "## VGG16 Model"
   ]
  },
  {
   "cell_type": "code",
   "execution_count": 12,
   "id": "9548711a-f924-4167-a6ce-d538236e8f1d",
   "metadata": {},
   "outputs": [],
   "source": [
    "class VGG16(nn.Module):\n",
    "    def __init__(self):\n",
    "        super(VGG16,self).__init__()\n",
    "\n",
    "        self.features = Sequential(\n",
    "            Conv2d(3,64,kernel_size=3,stride=1,padding=1),\n",
    "            ReLU(inplace=True),\n",
    "            Conv2d(64,64,kernel_size=3,padding=1),\n",
    "            ReLU(inplace=True),\n",
    "            MaxPool2d(kernel_size=2,stride=2,padding=0),\n",
    "            \n",
    "            Conv2d(64,128,kernel_size=3,stride=1,padding=1),\n",
    "            ReLU(inplace=True),\n",
    "            Conv2d(128,128,kernel_size=3,padding=1),\n",
    "            ReLU(inplace=True),\n",
    "            MaxPool2d(kernel_size=2,stride=2,padding=0),\n",
    "\n",
    "            Conv2d(128,256,kernel_size=3,stride=1,padding=1),\n",
    "            ReLU(inplace=True),\n",
    "            Conv2d(256,256,kernel_size=3,padding=1),\n",
    "            ReLU(inplace=True),\n",
    "            Conv2d(256,256,kernel_size=3,padding=1),\n",
    "            ReLU(inplace=True),\n",
    "            MaxPool2d(kernel_size=2,stride=2,padding=0),\n",
    "\n",
    "            Conv2d(256,512,kernel_size=3,stride=1,padding=1),\n",
    "            ReLU(inplace=True),\n",
    "            Conv2d(512,512,kernel_size=3,padding=1),\n",
    "            ReLU(inplace=True),\n",
    "            Conv2d(512,512,kernel_size=3,padding=1),\n",
    "            ReLU(inplace=True),\n",
    "            MaxPool2d(kernel_size=2,stride=2,padding=0),\n",
    "\n",
    "            Conv2d(512,512,kernel_size=3,stride=1,padding=1),\n",
    "            ReLU(inplace=True),\n",
    "            Conv2d(512,512,kernel_size=3,padding=1),\n",
    "            ReLU(inplace=True),\n",
    "            Conv2d(512,512,kernel_size=3,padding=1),\n",
    "            ReLU(inplace=True),\n",
    "            MaxPool2d(kernel_size=2,stride=2,padding=0),\n",
    "        )\n",
    "\n",
    "        self.avgpool = nn.AdaptiveAvgPool2d(output_size=(7,7))\n",
    "        self.flatten = nn.Flatten()\n",
    "        self.classifier = Sequential(\n",
    "            Linear(512 * 7 * 7, 4096),\n",
    "            ReLU(inplace=True),\n",
    "            Dropout(0.5,inplace=False),\n",
    "            Linear(4096,4096),\n",
    "            ReLU(inplace=True),\n",
    "            Dropout(0.5,inplace=False),\n",
    "            Linear(4096,1000)\n",
    "        )\n",
    "\n",
    "    def forward(self,x):\n",
    "        x = self.features(x)\n",
    "        x = self.avgpool(x)\n",
    "        x = self.flatten(x)\n",
    "        x = self.classifier(x)\n",
    "        return x"
   ]
  },
  {
   "cell_type": "markdown",
   "id": "ac27cea0-6ef2-483a-a709-58bc476895ba",
   "metadata": {},
   "source": [
    "## Download VGG16 weights file from https://download.pytorch.org/models/vgg16-397923af.pth"
   ]
  },
  {
   "cell_type": "markdown",
   "id": "a632a9ed-6480-497e-aab3-afb4d0bab96f",
   "metadata": {},
   "source": [
    "## Loading VGG16 weights to the VGG16 class for \"Transfer Learning\""
   ]
  },
  {
   "cell_type": "code",
   "execution_count": 13,
   "id": "cc305870-4675-4ea8-b3e8-41bfc588507c",
   "metadata": {},
   "outputs": [
    {
     "name": "stderr",
     "output_type": "stream",
     "text": [
      "/tmp/ipykernel_10368/1519656327.py:3: FutureWarning: You are using `torch.load` with `weights_only=False` (the current default value), which uses the default pickle module implicitly. It is possible to construct malicious pickle data which will execute arbitrary code during unpickling (See https://github.com/pytorch/pytorch/blob/main/SECURITY.md#untrusted-models for more details). In a future release, the default value for `weights_only` will be flipped to `True`. This limits the functions that could be executed during unpickling. Arbitrary objects will no longer be allowed to be loaded via this mode unless they are explicitly allowlisted by the user via `torch.serialization.add_safe_globals`. We recommend you start setting `weights_only=True` for any use case where you don't have full control of the loaded file. Please open an issue on GitHub for any issues related to this experimental feature.\n",
      "  model.load_state_dict(torch.load(\"vgg16-397923af.pth\"))\n"
     ]
    },
    {
     "name": "stdout",
     "output_type": "stream",
     "text": [
      "----------------------------------------------------------------\n",
      "        Layer (type)               Output Shape         Param #\n",
      "================================================================\n",
      "            Conv2d-1         [-1, 64, 128, 128]           1,792\n",
      "              ReLU-2         [-1, 64, 128, 128]               0\n",
      "            Conv2d-3         [-1, 64, 128, 128]          36,928\n",
      "              ReLU-4         [-1, 64, 128, 128]               0\n",
      "         MaxPool2d-5           [-1, 64, 64, 64]               0\n",
      "            Conv2d-6          [-1, 128, 64, 64]          73,856\n",
      "              ReLU-7          [-1, 128, 64, 64]               0\n",
      "            Conv2d-8          [-1, 128, 64, 64]         147,584\n",
      "              ReLU-9          [-1, 128, 64, 64]               0\n",
      "        MaxPool2d-10          [-1, 128, 32, 32]               0\n",
      "           Conv2d-11          [-1, 256, 32, 32]         295,168\n",
      "             ReLU-12          [-1, 256, 32, 32]               0\n",
      "           Conv2d-13          [-1, 256, 32, 32]         590,080\n",
      "             ReLU-14          [-1, 256, 32, 32]               0\n",
      "           Conv2d-15          [-1, 256, 32, 32]         590,080\n",
      "             ReLU-16          [-1, 256, 32, 32]               0\n",
      "        MaxPool2d-17          [-1, 256, 16, 16]               0\n",
      "           Conv2d-18          [-1, 512, 16, 16]       1,180,160\n",
      "             ReLU-19          [-1, 512, 16, 16]               0\n",
      "           Conv2d-20          [-1, 512, 16, 16]       2,359,808\n",
      "             ReLU-21          [-1, 512, 16, 16]               0\n",
      "           Conv2d-22          [-1, 512, 16, 16]       2,359,808\n",
      "             ReLU-23          [-1, 512, 16, 16]               0\n",
      "        MaxPool2d-24            [-1, 512, 8, 8]               0\n",
      "           Conv2d-25            [-1, 512, 8, 8]       2,359,808\n",
      "             ReLU-26            [-1, 512, 8, 8]               0\n",
      "           Conv2d-27            [-1, 512, 8, 8]       2,359,808\n",
      "             ReLU-28            [-1, 512, 8, 8]               0\n",
      "           Conv2d-29            [-1, 512, 8, 8]       2,359,808\n",
      "             ReLU-30            [-1, 512, 8, 8]               0\n",
      "        MaxPool2d-31            [-1, 512, 4, 4]               0\n",
      "AdaptiveAvgPool2d-32            [-1, 512, 7, 7]               0\n",
      "          Flatten-33                [-1, 25088]               0\n",
      "           Linear-34                 [-1, 4096]     102,764,544\n",
      "             ReLU-35                 [-1, 4096]               0\n",
      "          Dropout-36                 [-1, 4096]               0\n",
      "           Linear-37                 [-1, 4096]      16,781,312\n",
      "             ReLU-38                 [-1, 4096]               0\n",
      "          Dropout-39                 [-1, 4096]               0\n",
      "           Linear-40                 [-1, 1000]       4,097,000\n",
      "================================================================\n",
      "Total params: 138,357,544\n",
      "Trainable params: 138,357,544\n",
      "Non-trainable params: 0\n",
      "----------------------------------------------------------------\n",
      "Input size (MB): 0.19\n",
      "Forward/backward pass size (MB): 71.89\n",
      "Params size (MB): 527.79\n",
      "Estimated Total Size (MB): 599.87\n",
      "----------------------------------------------------------------\n"
     ]
    }
   ],
   "source": [
    "device = 'cuda' if torch.cuda.is_available() else 'cpu'\n",
    "model = VGG16().to(device)\n",
    "model.load_state_dict(torch.load(\"vgg16-397923af.pth\"))\n",
    "summary(model, input_size=(3,128,128))"
   ]
  },
  {
   "cell_type": "markdown",
   "id": "bfb1473c-57af-4e23-b3e0-088e141e11a6",
   "metadata": {},
   "source": [
    "## Changing output classes to 6 from 1000 in original VGG16 classifier"
   ]
  },
  {
   "cell_type": "code",
   "execution_count": 14,
   "id": "9410ca26-5fc8-44ec-9eaa-953d84f3f762",
   "metadata": {},
   "outputs": [
    {
     "name": "stdout",
     "output_type": "stream",
     "text": [
      "----------------------------------------------------------------\n",
      "        Layer (type)               Output Shape         Param #\n",
      "================================================================\n",
      "            Conv2d-1         [-1, 64, 128, 128]           1,792\n",
      "              ReLU-2         [-1, 64, 128, 128]               0\n",
      "            Conv2d-3         [-1, 64, 128, 128]          36,928\n",
      "              ReLU-4         [-1, 64, 128, 128]               0\n",
      "         MaxPool2d-5           [-1, 64, 64, 64]               0\n",
      "            Conv2d-6          [-1, 128, 64, 64]          73,856\n",
      "              ReLU-7          [-1, 128, 64, 64]               0\n",
      "            Conv2d-8          [-1, 128, 64, 64]         147,584\n",
      "              ReLU-9          [-1, 128, 64, 64]               0\n",
      "        MaxPool2d-10          [-1, 128, 32, 32]               0\n",
      "           Conv2d-11          [-1, 256, 32, 32]         295,168\n",
      "             ReLU-12          [-1, 256, 32, 32]               0\n",
      "           Conv2d-13          [-1, 256, 32, 32]         590,080\n",
      "             ReLU-14          [-1, 256, 32, 32]               0\n",
      "           Conv2d-15          [-1, 256, 32, 32]         590,080\n",
      "             ReLU-16          [-1, 256, 32, 32]               0\n",
      "        MaxPool2d-17          [-1, 256, 16, 16]               0\n",
      "           Conv2d-18          [-1, 512, 16, 16]       1,180,160\n",
      "             ReLU-19          [-1, 512, 16, 16]               0\n",
      "           Conv2d-20          [-1, 512, 16, 16]       2,359,808\n",
      "             ReLU-21          [-1, 512, 16, 16]               0\n",
      "           Conv2d-22          [-1, 512, 16, 16]       2,359,808\n",
      "             ReLU-23          [-1, 512, 16, 16]               0\n",
      "        MaxPool2d-24            [-1, 512, 8, 8]               0\n",
      "           Conv2d-25            [-1, 512, 8, 8]       2,359,808\n",
      "             ReLU-26            [-1, 512, 8, 8]               0\n",
      "           Conv2d-27            [-1, 512, 8, 8]       2,359,808\n",
      "             ReLU-28            [-1, 512, 8, 8]               0\n",
      "           Conv2d-29            [-1, 512, 8, 8]       2,359,808\n",
      "             ReLU-30            [-1, 512, 8, 8]               0\n",
      "        MaxPool2d-31            [-1, 512, 4, 4]               0\n",
      "AdaptiveAvgPool2d-32            [-1, 512, 7, 7]               0\n",
      "          Flatten-33                [-1, 25088]               0\n",
      "           Linear-34                 [-1, 4096]     102,764,544\n",
      "             ReLU-35                 [-1, 4096]               0\n",
      "          Dropout-36                 [-1, 4096]               0\n",
      "           Linear-37                 [-1, 4096]      16,781,312\n",
      "             ReLU-38                 [-1, 4096]               0\n",
      "          Dropout-39                 [-1, 4096]               0\n",
      "           Linear-40                    [-1, 6]          24,582\n",
      "================================================================\n",
      "Total params: 134,285,126\n",
      "Trainable params: 134,285,126\n",
      "Non-trainable params: 0\n",
      "----------------------------------------------------------------\n",
      "Input size (MB): 0.19\n",
      "Forward/backward pass size (MB): 71.88\n",
      "Params size (MB): 512.26\n",
      "Estimated Total Size (MB): 584.33\n",
      "----------------------------------------------------------------\n"
     ]
    }
   ],
   "source": [
    "model.classifier = Sequential(\n",
    "            Linear(512 * 7 * 7, 4096),\n",
    "            ReLU(inplace=True),\n",
    "            Dropout(0.5,inplace=False),\n",
    "            Linear(4096,4096),\n",
    "            ReLU(inplace=True),\n",
    "            Dropout(0.5,inplace=False),\n",
    "            Linear(4096,6)\n",
    "        )\n",
    "model = model.to(device)\n",
    "summary(model, input_size=(3,128,128))"
   ]
  },
  {
   "cell_type": "markdown",
   "id": "3ae12c65-29cd-401b-95af-2f98b4f310a0",
   "metadata": {},
   "source": [
    "## Training Loop"
   ]
  },
  {
   "cell_type": "code",
   "execution_count": 15,
   "id": "0b0bfdfa-28fd-4c61-ab69-7137a9d8b539",
   "metadata": {
    "scrolled": true
   },
   "outputs": [
    {
     "name": "stderr",
     "output_type": "stream",
     "text": [
      "Training: 100%|████████████████████████████████| 30/30 [00:07<00:00,  3.89it/s]\n"
     ]
    },
    {
     "name": "stdout",
     "output_type": "stream",
     "text": [
      "Epoch 1, Loss: 1.6405829946200052, Training Accuracy: 29.69%\n"
     ]
    },
    {
     "name": "stderr",
     "output_type": "stream",
     "text": [
      "Validation: 100%|████████████████████████████████| 8/8 [00:00<00:00,  8.19it/s]\n"
     ]
    },
    {
     "name": "stdout",
     "output_type": "stream",
     "text": [
      "Validation Accuracy: 38.33%, Validation Loss: 1.5487186908721924\n"
     ]
    },
    {
     "name": "stderr",
     "output_type": "stream",
     "text": [
      "Training: 100%|████████████████████████████████| 30/30 [00:07<00:00,  3.97it/s]\n"
     ]
    },
    {
     "name": "stdout",
     "output_type": "stream",
     "text": [
      "Epoch 2, Loss: 1.3262091636657716, Training Accuracy: 46.67%\n"
     ]
    },
    {
     "name": "stderr",
     "output_type": "stream",
     "text": [
      "Validation: 100%|████████████████████████████████| 8/8 [00:00<00:00,  8.17it/s]\n"
     ]
    },
    {
     "name": "stdout",
     "output_type": "stream",
     "text": [
      "Validation Accuracy: 48.75%, Validation Loss: 1.2799965143203735\n"
     ]
    },
    {
     "name": "stderr",
     "output_type": "stream",
     "text": [
      "Training: 100%|████████████████████████████████| 30/30 [00:07<00:00,  3.97it/s]\n"
     ]
    },
    {
     "name": "stdout",
     "output_type": "stream",
     "text": [
      "Epoch 3, Loss: 1.0542947034041086, Training Accuracy: 58.02%\n"
     ]
    },
    {
     "name": "stderr",
     "output_type": "stream",
     "text": [
      "Validation: 100%|████████████████████████████████| 8/8 [00:00<00:00,  8.13it/s]\n"
     ]
    },
    {
     "name": "stdout",
     "output_type": "stream",
     "text": [
      "Validation Accuracy: 51.25%, Validation Loss: 1.3400416374206543\n"
     ]
    },
    {
     "name": "stderr",
     "output_type": "stream",
     "text": [
      "Training: 100%|████████████████████████████████| 30/30 [00:07<00:00,  3.96it/s]\n"
     ]
    },
    {
     "name": "stdout",
     "output_type": "stream",
     "text": [
      "Epoch 4, Loss: 0.8622688591480255, Training Accuracy: 67.71%\n"
     ]
    },
    {
     "name": "stderr",
     "output_type": "stream",
     "text": [
      "Validation: 100%|████████████████████████████████| 8/8 [00:00<00:00,  8.15it/s]\n"
     ]
    },
    {
     "name": "stdout",
     "output_type": "stream",
     "text": [
      "Validation Accuracy: 52.92%, Validation Loss: 1.4133557081222534\n"
     ]
    },
    {
     "name": "stderr",
     "output_type": "stream",
     "text": [
      "Training: 100%|████████████████████████████████| 30/30 [00:07<00:00,  3.95it/s]\n"
     ]
    },
    {
     "name": "stdout",
     "output_type": "stream",
     "text": [
      "Epoch 5, Loss: 0.7329138765732447, Training Accuracy: 71.67%\n"
     ]
    },
    {
     "name": "stderr",
     "output_type": "stream",
     "text": [
      "Validation: 100%|████████████████████████████████| 8/8 [00:00<00:00,  8.16it/s]\n"
     ]
    },
    {
     "name": "stdout",
     "output_type": "stream",
     "text": [
      "Validation Accuracy: 55.42%, Validation Loss: 1.3735370635986328\n"
     ]
    },
    {
     "name": "stderr",
     "output_type": "stream",
     "text": [
      "Training: 100%|████████████████████████████████| 30/30 [00:07<00:00,  3.95it/s]\n"
     ]
    },
    {
     "name": "stdout",
     "output_type": "stream",
     "text": [
      "Epoch 6, Loss: 0.6375604748725892, Training Accuracy: 75.73%\n"
     ]
    },
    {
     "name": "stderr",
     "output_type": "stream",
     "text": [
      "Validation: 100%|████████████████████████████████| 8/8 [00:00<00:00,  8.13it/s]\n"
     ]
    },
    {
     "name": "stdout",
     "output_type": "stream",
     "text": [
      "Validation Accuracy: 55.00%, Validation Loss: 1.6631816625595093\n"
     ]
    },
    {
     "name": "stderr",
     "output_type": "stream",
     "text": [
      "Training: 100%|████████████████████████████████| 30/30 [00:07<00:00,  3.95it/s]\n"
     ]
    },
    {
     "name": "stdout",
     "output_type": "stream",
     "text": [
      "Epoch 7, Loss: 0.5743186175823212, Training Accuracy: 78.65%\n"
     ]
    },
    {
     "name": "stderr",
     "output_type": "stream",
     "text": [
      "Validation: 100%|████████████████████████████████| 8/8 [00:00<00:00,  8.16it/s]\n"
     ]
    },
    {
     "name": "stdout",
     "output_type": "stream",
     "text": [
      "Validation Accuracy: 52.92%, Validation Loss: 1.3787912130355835\n"
     ]
    },
    {
     "name": "stderr",
     "output_type": "stream",
     "text": [
      "Training: 100%|████████████████████████████████| 30/30 [00:07<00:00,  3.95it/s]\n"
     ]
    },
    {
     "name": "stdout",
     "output_type": "stream",
     "text": [
      "Epoch 8, Loss: 0.5758215874433518, Training Accuracy: 78.96%\n"
     ]
    },
    {
     "name": "stderr",
     "output_type": "stream",
     "text": [
      "Validation: 100%|████████████████████████████████| 8/8 [00:00<00:00,  8.14it/s]\n"
     ]
    },
    {
     "name": "stdout",
     "output_type": "stream",
     "text": [
      "Validation Accuracy: 53.75%, Validation Loss: 2.030033588409424\n"
     ]
    },
    {
     "name": "stderr",
     "output_type": "stream",
     "text": [
      "Training: 100%|████████████████████████████████| 30/30 [00:07<00:00,  3.95it/s]\n"
     ]
    },
    {
     "name": "stdout",
     "output_type": "stream",
     "text": [
      "Epoch 9, Loss: 0.6180267870426178, Training Accuracy: 79.06%\n"
     ]
    },
    {
     "name": "stderr",
     "output_type": "stream",
     "text": [
      "Validation: 100%|████████████████████████████████| 8/8 [00:00<00:00,  8.13it/s]\n"
     ]
    },
    {
     "name": "stdout",
     "output_type": "stream",
     "text": [
      "Validation Accuracy: 55.83%, Validation Loss: 1.5336815118789673\n"
     ]
    },
    {
     "name": "stderr",
     "output_type": "stream",
     "text": [
      "Training: 100%|████████████████████████████████| 30/30 [00:07<00:00,  3.94it/s]\n"
     ]
    },
    {
     "name": "stdout",
     "output_type": "stream",
     "text": [
      "Epoch 10, Loss: 0.4984665314356486, Training Accuracy: 81.67%\n"
     ]
    },
    {
     "name": "stderr",
     "output_type": "stream",
     "text": [
      "Validation: 100%|████████████████████████████████| 8/8 [00:00<00:00,  8.12it/s]\n"
     ]
    },
    {
     "name": "stdout",
     "output_type": "stream",
     "text": [
      "Validation Accuracy: 61.25%, Validation Loss: 1.5190213918685913\n"
     ]
    },
    {
     "name": "stderr",
     "output_type": "stream",
     "text": [
      "Training: 100%|████████████████████████████████| 30/30 [00:07<00:00,  3.94it/s]\n"
     ]
    },
    {
     "name": "stdout",
     "output_type": "stream",
     "text": [
      "Epoch 11, Loss: 0.417648712793986, Training Accuracy: 83.44%\n"
     ]
    },
    {
     "name": "stderr",
     "output_type": "stream",
     "text": [
      "Validation: 100%|████████████████████████████████| 8/8 [00:00<00:00,  8.12it/s]\n"
     ]
    },
    {
     "name": "stdout",
     "output_type": "stream",
     "text": [
      "Validation Accuracy: 60.00%, Validation Loss: 2.141726016998291\n"
     ]
    },
    {
     "name": "stderr",
     "output_type": "stream",
     "text": [
      "Training: 100%|████████████████████████████████| 30/30 [00:07<00:00,  3.94it/s]\n"
     ]
    },
    {
     "name": "stdout",
     "output_type": "stream",
     "text": [
      "Epoch 12, Loss: 0.4932292227943738, Training Accuracy: 82.40%\n"
     ]
    },
    {
     "name": "stderr",
     "output_type": "stream",
     "text": [
      "Validation: 100%|████████████████████████████████| 8/8 [00:00<00:00,  8.11it/s]\n"
     ]
    },
    {
     "name": "stdout",
     "output_type": "stream",
     "text": [
      "Validation Accuracy: 54.58%, Validation Loss: 2.0363967418670654\n"
     ]
    },
    {
     "name": "stderr",
     "output_type": "stream",
     "text": [
      "Training: 100%|████████████████████████████████| 30/30 [00:07<00:00,  3.94it/s]\n"
     ]
    },
    {
     "name": "stdout",
     "output_type": "stream",
     "text": [
      "Epoch 13, Loss: 0.5852828403313954, Training Accuracy: 79.69%\n"
     ]
    },
    {
     "name": "stderr",
     "output_type": "stream",
     "text": [
      "Validation: 100%|████████████████████████████████| 8/8 [00:00<00:00,  8.10it/s]\n"
     ]
    },
    {
     "name": "stdout",
     "output_type": "stream",
     "text": [
      "Validation Accuracy: 54.58%, Validation Loss: 1.7627348899841309\n"
     ]
    },
    {
     "name": "stderr",
     "output_type": "stream",
     "text": [
      "Training: 100%|████████████████████████████████| 30/30 [00:07<00:00,  3.94it/s]\n"
     ]
    },
    {
     "name": "stdout",
     "output_type": "stream",
     "text": [
      "Epoch 14, Loss: 0.43259122520685195, Training Accuracy: 83.75%\n"
     ]
    },
    {
     "name": "stderr",
     "output_type": "stream",
     "text": [
      "Validation: 100%|████████████████████████████████| 8/8 [00:00<00:00,  8.09it/s]\n"
     ]
    },
    {
     "name": "stdout",
     "output_type": "stream",
     "text": [
      "Validation Accuracy: 57.08%, Validation Loss: 2.0307846069335938\n"
     ]
    },
    {
     "name": "stderr",
     "output_type": "stream",
     "text": [
      "Training: 100%|████████████████████████████████| 30/30 [00:07<00:00,  3.94it/s]\n"
     ]
    },
    {
     "name": "stdout",
     "output_type": "stream",
     "text": [
      "Epoch 15, Loss: 0.4094172403216362, Training Accuracy: 84.48%\n"
     ]
    },
    {
     "name": "stderr",
     "output_type": "stream",
     "text": [
      "Validation: 100%|████████████████████████████████| 8/8 [00:00<00:00,  8.11it/s]\n"
     ]
    },
    {
     "name": "stdout",
     "output_type": "stream",
     "text": [
      "Validation Accuracy: 59.58%, Validation Loss: 1.640441656112671\n"
     ]
    },
    {
     "name": "stderr",
     "output_type": "stream",
     "text": [
      "Training: 100%|████████████████████████████████| 30/30 [00:07<00:00,  3.94it/s]\n"
     ]
    },
    {
     "name": "stdout",
     "output_type": "stream",
     "text": [
      "Epoch 16, Loss: 0.3951509863138199, Training Accuracy: 85.10%\n"
     ]
    },
    {
     "name": "stderr",
     "output_type": "stream",
     "text": [
      "Validation: 100%|████████████████████████████████| 8/8 [00:00<00:00,  8.14it/s]\n"
     ]
    },
    {
     "name": "stdout",
     "output_type": "stream",
     "text": [
      "Validation Accuracy: 56.67%, Validation Loss: 2.171109199523926\n"
     ]
    },
    {
     "name": "stderr",
     "output_type": "stream",
     "text": [
      "Training: 100%|████████████████████████████████| 30/30 [00:07<00:00,  3.94it/s]\n"
     ]
    },
    {
     "name": "stdout",
     "output_type": "stream",
     "text": [
      "Epoch 17, Loss: 0.41005923599004745, Training Accuracy: 84.17%\n"
     ]
    },
    {
     "name": "stderr",
     "output_type": "stream",
     "text": [
      "Validation: 100%|████████████████████████████████| 8/8 [00:00<00:00,  8.12it/s]\n"
     ]
    },
    {
     "name": "stdout",
     "output_type": "stream",
     "text": [
      "Validation Accuracy: 56.67%, Validation Loss: 2.0194478034973145\n"
     ]
    },
    {
     "name": "stderr",
     "output_type": "stream",
     "text": [
      "Training: 100%|████████████████████████████████| 30/30 [00:07<00:00,  3.94it/s]\n"
     ]
    },
    {
     "name": "stdout",
     "output_type": "stream",
     "text": [
      "Epoch 18, Loss: 0.43222039292256037, Training Accuracy: 83.33%\n"
     ]
    },
    {
     "name": "stderr",
     "output_type": "stream",
     "text": [
      "Validation: 100%|████████████████████████████████| 8/8 [00:00<00:00,  8.13it/s]\n"
     ]
    },
    {
     "name": "stdout",
     "output_type": "stream",
     "text": [
      "Validation Accuracy: 58.75%, Validation Loss: 2.429574966430664\n"
     ]
    },
    {
     "name": "stderr",
     "output_type": "stream",
     "text": [
      "Training: 100%|████████████████████████████████| 30/30 [00:07<00:00,  3.94it/s]\n"
     ]
    },
    {
     "name": "stdout",
     "output_type": "stream",
     "text": [
      "Epoch 19, Loss: 0.40656097084283827, Training Accuracy: 85.00%\n"
     ]
    },
    {
     "name": "stderr",
     "output_type": "stream",
     "text": [
      "Validation: 100%|████████████████████████████████| 8/8 [00:00<00:00,  8.09it/s]\n"
     ]
    },
    {
     "name": "stdout",
     "output_type": "stream",
     "text": [
      "Validation Accuracy: 57.50%, Validation Loss: 2.2116947174072266\n"
     ]
    },
    {
     "name": "stderr",
     "output_type": "stream",
     "text": [
      "Training: 100%|████████████████████████████████| 30/30 [00:07<00:00,  3.94it/s]\n"
     ]
    },
    {
     "name": "stdout",
     "output_type": "stream",
     "text": [
      "Epoch 20, Loss: 0.380802754064401, Training Accuracy: 85.31%\n"
     ]
    },
    {
     "name": "stderr",
     "output_type": "stream",
     "text": [
      "Validation: 100%|████████████████████████████████| 8/8 [00:00<00:00,  8.11it/s]\n"
     ]
    },
    {
     "name": "stdout",
     "output_type": "stream",
     "text": [
      "Validation Accuracy: 58.33%, Validation Loss: 2.463690757751465\n"
     ]
    },
    {
     "name": "stderr",
     "output_type": "stream",
     "text": [
      "Training: 100%|████████████████████████████████| 30/30 [00:07<00:00,  3.95it/s]\n"
     ]
    },
    {
     "name": "stdout",
     "output_type": "stream",
     "text": [
      "Epoch 21, Loss: 0.3801643647253513, Training Accuracy: 85.42%\n"
     ]
    },
    {
     "name": "stderr",
     "output_type": "stream",
     "text": [
      "Validation: 100%|████████████████████████████████| 8/8 [00:00<00:00,  8.13it/s]\n"
     ]
    },
    {
     "name": "stdout",
     "output_type": "stream",
     "text": [
      "Validation Accuracy: 60.00%, Validation Loss: 2.2250094413757324\n"
     ]
    },
    {
     "name": "stderr",
     "output_type": "stream",
     "text": [
      "Training: 100%|████████████████████████████████| 30/30 [00:07<00:00,  3.95it/s]\n"
     ]
    },
    {
     "name": "stdout",
     "output_type": "stream",
     "text": [
      "Epoch 22, Loss: 0.35864760155479114, Training Accuracy: 85.83%\n"
     ]
    },
    {
     "name": "stderr",
     "output_type": "stream",
     "text": [
      "Validation: 100%|████████████████████████████████| 8/8 [00:00<00:00,  8.14it/s]\n"
     ]
    },
    {
     "name": "stdout",
     "output_type": "stream",
     "text": [
      "Validation Accuracy: 60.00%, Validation Loss: 2.409470796585083\n"
     ]
    },
    {
     "name": "stderr",
     "output_type": "stream",
     "text": [
      "Training: 100%|████████████████████████████████| 30/30 [00:07<00:00,  3.95it/s]\n"
     ]
    },
    {
     "name": "stdout",
     "output_type": "stream",
     "text": [
      "Epoch 23, Loss: 0.3592166997492313, Training Accuracy: 85.94%\n"
     ]
    },
    {
     "name": "stderr",
     "output_type": "stream",
     "text": [
      "Validation: 100%|████████████████████████████████| 8/8 [00:00<00:00,  8.12it/s]\n"
     ]
    },
    {
     "name": "stdout",
     "output_type": "stream",
     "text": [
      "Validation Accuracy: 59.58%, Validation Loss: 2.534567356109619\n"
     ]
    },
    {
     "name": "stderr",
     "output_type": "stream",
     "text": [
      "Training: 100%|████████████████████████████████| 30/30 [00:07<00:00,  3.95it/s]\n"
     ]
    },
    {
     "name": "stdout",
     "output_type": "stream",
     "text": [
      "Epoch 24, Loss: 0.3647708552579085, Training Accuracy: 85.83%\n"
     ]
    },
    {
     "name": "stderr",
     "output_type": "stream",
     "text": [
      "Validation: 100%|████████████████████████████████| 8/8 [00:00<00:00,  8.12it/s]\n"
     ]
    },
    {
     "name": "stdout",
     "output_type": "stream",
     "text": [
      "Validation Accuracy: 61.25%, Validation Loss: 2.5109269618988037\n"
     ]
    },
    {
     "name": "stderr",
     "output_type": "stream",
     "text": [
      "Training: 100%|████████████████████████████████| 30/30 [00:07<00:00,  3.95it/s]\n"
     ]
    },
    {
     "name": "stdout",
     "output_type": "stream",
     "text": [
      "Epoch 25, Loss: 0.383702777326107, Training Accuracy: 84.90%\n"
     ]
    },
    {
     "name": "stderr",
     "output_type": "stream",
     "text": [
      "Validation: 100%|████████████████████████████████| 8/8 [00:00<00:00,  8.13it/s]\n"
     ]
    },
    {
     "name": "stdout",
     "output_type": "stream",
     "text": [
      "Validation Accuracy: 60.83%, Validation Loss: 2.4706015586853027\n"
     ]
    },
    {
     "name": "stderr",
     "output_type": "stream",
     "text": [
      "Training: 100%|████████████████████████████████| 30/30 [00:07<00:00,  3.95it/s]\n"
     ]
    },
    {
     "name": "stdout",
     "output_type": "stream",
     "text": [
      "Epoch 26, Loss: 0.3579982675611973, Training Accuracy: 85.73%\n"
     ]
    },
    {
     "name": "stderr",
     "output_type": "stream",
     "text": [
      "Validation: 100%|████████████████████████████████| 8/8 [00:00<00:00,  8.11it/s]\n"
     ]
    },
    {
     "name": "stdout",
     "output_type": "stream",
     "text": [
      "Validation Accuracy: 58.33%, Validation Loss: 3.192038059234619\n"
     ]
    },
    {
     "name": "stderr",
     "output_type": "stream",
     "text": [
      "Training: 100%|████████████████████████████████| 30/30 [00:07<00:00,  3.95it/s]\n"
     ]
    },
    {
     "name": "stdout",
     "output_type": "stream",
     "text": [
      "Epoch 27, Loss: 0.43833710874120396, Training Accuracy: 83.44%\n"
     ]
    },
    {
     "name": "stderr",
     "output_type": "stream",
     "text": [
      "Validation: 100%|████████████████████████████████| 8/8 [00:00<00:00,  8.12it/s]\n"
     ]
    },
    {
     "name": "stdout",
     "output_type": "stream",
     "text": [
      "Validation Accuracy: 57.50%, Validation Loss: 2.129180908203125\n"
     ]
    },
    {
     "name": "stderr",
     "output_type": "stream",
     "text": [
      "Training: 100%|████████████████████████████████| 30/30 [00:07<00:00,  3.95it/s]\n"
     ]
    },
    {
     "name": "stdout",
     "output_type": "stream",
     "text": [
      "Epoch 28, Loss: 0.46770158608754475, Training Accuracy: 83.02%\n"
     ]
    },
    {
     "name": "stderr",
     "output_type": "stream",
     "text": [
      "Validation: 100%|████████████████████████████████| 8/8 [00:00<00:00,  8.14it/s]\n"
     ]
    },
    {
     "name": "stdout",
     "output_type": "stream",
     "text": [
      "Validation Accuracy: 57.50%, Validation Loss: 2.062060832977295\n"
     ]
    },
    {
     "name": "stderr",
     "output_type": "stream",
     "text": [
      "Training: 100%|████████████████████████████████| 30/30 [00:07<00:00,  3.95it/s]\n"
     ]
    },
    {
     "name": "stdout",
     "output_type": "stream",
     "text": [
      "Epoch 29, Loss: 0.3980268145600955, Training Accuracy: 84.69%\n"
     ]
    },
    {
     "name": "stderr",
     "output_type": "stream",
     "text": [
      "Validation: 100%|████████████████████████████████| 8/8 [00:00<00:00,  8.15it/s]\n"
     ]
    },
    {
     "name": "stdout",
     "output_type": "stream",
     "text": [
      "Validation Accuracy: 60.00%, Validation Loss: 2.207798957824707\n"
     ]
    },
    {
     "name": "stderr",
     "output_type": "stream",
     "text": [
      "Training: 100%|████████████████████████████████| 30/30 [00:07<00:00,  3.95it/s]\n"
     ]
    },
    {
     "name": "stdout",
     "output_type": "stream",
     "text": [
      "Epoch 30, Loss: 0.4236459493637085, Training Accuracy: 84.58%\n"
     ]
    },
    {
     "name": "stderr",
     "output_type": "stream",
     "text": [
      "Validation: 100%|████████████████████████████████| 8/8 [00:00<00:00,  8.13it/s]\n"
     ]
    },
    {
     "name": "stdout",
     "output_type": "stream",
     "text": [
      "Validation Accuracy: 57.50%, Validation Loss: 1.5929702520370483\n"
     ]
    },
    {
     "name": "stderr",
     "output_type": "stream",
     "text": [
      "Training: 100%|████████████████████████████████| 30/30 [00:07<00:00,  3.95it/s]\n"
     ]
    },
    {
     "name": "stdout",
     "output_type": "stream",
     "text": [
      "Epoch 31, Loss: 0.3927590767542521, Training Accuracy: 85.10%\n"
     ]
    },
    {
     "name": "stderr",
     "output_type": "stream",
     "text": [
      "Validation: 100%|████████████████████████████████| 8/8 [00:00<00:00,  8.13it/s]\n"
     ]
    },
    {
     "name": "stdout",
     "output_type": "stream",
     "text": [
      "Validation Accuracy: 60.00%, Validation Loss: 1.9714992046356201\n"
     ]
    },
    {
     "name": "stderr",
     "output_type": "stream",
     "text": [
      "Training: 100%|████████████████████████████████| 30/30 [00:07<00:00,  3.95it/s]\n"
     ]
    },
    {
     "name": "stdout",
     "output_type": "stream",
     "text": [
      "Epoch 32, Loss: 0.3674442226688067, Training Accuracy: 85.62%\n"
     ]
    },
    {
     "name": "stderr",
     "output_type": "stream",
     "text": [
      "Validation: 100%|████████████████████████████████| 8/8 [00:00<00:00,  8.14it/s]\n"
     ]
    },
    {
     "name": "stdout",
     "output_type": "stream",
     "text": [
      "Validation Accuracy: 60.42%, Validation Loss: 2.1733498573303223\n"
     ]
    },
    {
     "name": "stderr",
     "output_type": "stream",
     "text": [
      "Training: 100%|████████████████████████████████| 30/30 [00:07<00:00,  3.95it/s]\n"
     ]
    },
    {
     "name": "stdout",
     "output_type": "stream",
     "text": [
      "Epoch 33, Loss: 0.35312616527080537, Training Accuracy: 86.15%\n"
     ]
    },
    {
     "name": "stderr",
     "output_type": "stream",
     "text": [
      "Validation: 100%|████████████████████████████████| 8/8 [00:00<00:00,  8.14it/s]\n"
     ]
    },
    {
     "name": "stdout",
     "output_type": "stream",
     "text": [
      "Validation Accuracy: 61.67%, Validation Loss: 2.2175796031951904\n"
     ]
    },
    {
     "name": "stderr",
     "output_type": "stream",
     "text": [
      "Training: 100%|████████████████████████████████| 30/30 [00:07<00:00,  3.95it/s]\n"
     ]
    },
    {
     "name": "stdout",
     "output_type": "stream",
     "text": [
      "Epoch 34, Loss: 0.3458017001549403, Training Accuracy: 86.25%\n"
     ]
    },
    {
     "name": "stderr",
     "output_type": "stream",
     "text": [
      "Validation: 100%|████████████████████████████████| 8/8 [00:00<00:00,  8.14it/s]\n"
     ]
    },
    {
     "name": "stdout",
     "output_type": "stream",
     "text": [
      "Validation Accuracy: 62.08%, Validation Loss: 2.271019220352173\n"
     ]
    },
    {
     "name": "stderr",
     "output_type": "stream",
     "text": [
      "Training: 100%|████████████████████████████████| 30/30 [00:07<00:00,  3.96it/s]\n"
     ]
    },
    {
     "name": "stdout",
     "output_type": "stream",
     "text": [
      "Epoch 35, Loss: 0.3469855586687724, Training Accuracy: 86.25%\n"
     ]
    },
    {
     "name": "stderr",
     "output_type": "stream",
     "text": [
      "Validation: 100%|████████████████████████████████| 8/8 [00:00<00:00,  8.13it/s]\n"
     ]
    },
    {
     "name": "stdout",
     "output_type": "stream",
     "text": [
      "Validation Accuracy: 61.67%, Validation Loss: 2.439992666244507\n"
     ]
    },
    {
     "name": "stderr",
     "output_type": "stream",
     "text": [
      "Training: 100%|████████████████████████████████| 30/30 [00:07<00:00,  3.95it/s]\n"
     ]
    },
    {
     "name": "stdout",
     "output_type": "stream",
     "text": [
      "Epoch 36, Loss: 0.34500523954629897, Training Accuracy: 86.25%\n"
     ]
    },
    {
     "name": "stderr",
     "output_type": "stream",
     "text": [
      "Validation: 100%|████████████████████████████████| 8/8 [00:00<00:00,  8.12it/s]\n"
     ]
    },
    {
     "name": "stdout",
     "output_type": "stream",
     "text": [
      "Validation Accuracy: 61.67%, Validation Loss: 2.5567827224731445\n"
     ]
    },
    {
     "name": "stderr",
     "output_type": "stream",
     "text": [
      "Training: 100%|████████████████████████████████| 30/30 [00:07<00:00,  3.95it/s]\n"
     ]
    },
    {
     "name": "stdout",
     "output_type": "stream",
     "text": [
      "Epoch 37, Loss: 0.34742269416650134, Training Accuracy: 86.25%\n"
     ]
    },
    {
     "name": "stderr",
     "output_type": "stream",
     "text": [
      "Validation: 100%|████████████████████████████████| 8/8 [00:00<00:00,  8.11it/s]\n"
     ]
    },
    {
     "name": "stdout",
     "output_type": "stream",
     "text": [
      "Validation Accuracy: 62.08%, Validation Loss: 2.3162941932678223\n"
     ]
    },
    {
     "name": "stderr",
     "output_type": "stream",
     "text": [
      "Training: 100%|████████████████████████████████| 30/30 [00:07<00:00,  3.94it/s]\n"
     ]
    },
    {
     "name": "stdout",
     "output_type": "stream",
     "text": [
      "Epoch 38, Loss: 0.3475399317840735, Training Accuracy: 86.25%\n"
     ]
    },
    {
     "name": "stderr",
     "output_type": "stream",
     "text": [
      "Validation: 100%|████████████████████████████████| 8/8 [00:00<00:00,  8.10it/s]\n"
     ]
    },
    {
     "name": "stdout",
     "output_type": "stream",
     "text": [
      "Validation Accuracy: 61.67%, Validation Loss: 2.3482038974761963\n"
     ]
    },
    {
     "name": "stderr",
     "output_type": "stream",
     "text": [
      "Training: 100%|████████████████████████████████| 30/30 [00:07<00:00,  3.94it/s]\n"
     ]
    },
    {
     "name": "stdout",
     "output_type": "stream",
     "text": [
      "Epoch 39, Loss: 0.3466440007090569, Training Accuracy: 86.25%\n"
     ]
    },
    {
     "name": "stderr",
     "output_type": "stream",
     "text": [
      "Validation: 100%|████████████████████████████████| 8/8 [00:00<00:00,  8.11it/s]\n"
     ]
    },
    {
     "name": "stdout",
     "output_type": "stream",
     "text": [
      "Validation Accuracy: 62.08%, Validation Loss: 2.448242425918579\n"
     ]
    },
    {
     "name": "stderr",
     "output_type": "stream",
     "text": [
      "Training: 100%|████████████████████████████████| 30/30 [00:07<00:00,  3.94it/s]\n"
     ]
    },
    {
     "name": "stdout",
     "output_type": "stream",
     "text": [
      "Epoch 40, Loss: 0.3463707070797682, Training Accuracy: 86.25%\n"
     ]
    },
    {
     "name": "stderr",
     "output_type": "stream",
     "text": [
      "Validation: 100%|████████████████████████████████| 8/8 [00:00<00:00,  8.12it/s]\n"
     ]
    },
    {
     "name": "stdout",
     "output_type": "stream",
     "text": [
      "Validation Accuracy: 62.08%, Validation Loss: 2.606125831604004\n"
     ]
    },
    {
     "name": "stderr",
     "output_type": "stream",
     "text": [
      "Training: 100%|████████████████████████████████| 30/30 [00:07<00:00,  3.94it/s]\n"
     ]
    },
    {
     "name": "stdout",
     "output_type": "stream",
     "text": [
      "Epoch 41, Loss: 0.34635568633675573, Training Accuracy: 86.25%\n"
     ]
    },
    {
     "name": "stderr",
     "output_type": "stream",
     "text": [
      "Validation: 100%|████████████████████████████████| 8/8 [00:00<00:00,  8.11it/s]\n"
     ]
    },
    {
     "name": "stdout",
     "output_type": "stream",
     "text": [
      "Validation Accuracy: 62.08%, Validation Loss: 2.7594704627990723\n"
     ]
    },
    {
     "name": "stderr",
     "output_type": "stream",
     "text": [
      "Training: 100%|████████████████████████████████| 30/30 [00:07<00:00,  3.94it/s]\n"
     ]
    },
    {
     "name": "stdout",
     "output_type": "stream",
     "text": [
      "Epoch 42, Loss: 0.34723738531271614, Training Accuracy: 86.25%\n"
     ]
    },
    {
     "name": "stderr",
     "output_type": "stream",
     "text": [
      "Validation: 100%|████████████████████████████████| 8/8 [00:00<00:00,  8.10it/s]\n"
     ]
    },
    {
     "name": "stdout",
     "output_type": "stream",
     "text": [
      "Validation Accuracy: 62.08%, Validation Loss: 2.617662191390991\n"
     ]
    },
    {
     "name": "stderr",
     "output_type": "stream",
     "text": [
      "Training: 100%|████████████████████████████████| 30/30 [00:07<00:00,  3.94it/s]\n"
     ]
    },
    {
     "name": "stdout",
     "output_type": "stream",
     "text": [
      "Epoch 43, Loss: 0.3495418439308802, Training Accuracy: 86.25%\n"
     ]
    },
    {
     "name": "stderr",
     "output_type": "stream",
     "text": [
      "Validation: 100%|████████████████████████████████| 8/8 [00:00<00:00,  8.11it/s]\n"
     ]
    },
    {
     "name": "stdout",
     "output_type": "stream",
     "text": [
      "Validation Accuracy: 62.08%, Validation Loss: 2.455284595489502\n"
     ]
    },
    {
     "name": "stderr",
     "output_type": "stream",
     "text": [
      "Training: 100%|████████████████████████████████| 30/30 [00:07<00:00,  3.94it/s]\n"
     ]
    },
    {
     "name": "stdout",
     "output_type": "stream",
     "text": [
      "Epoch 44, Loss: 0.3459898521502813, Training Accuracy: 86.25%\n"
     ]
    },
    {
     "name": "stderr",
     "output_type": "stream",
     "text": [
      "Validation: 100%|████████████████████████████████| 8/8 [00:00<00:00,  8.11it/s]\n"
     ]
    },
    {
     "name": "stdout",
     "output_type": "stream",
     "text": [
      "Validation Accuracy: 62.08%, Validation Loss: 2.511244773864746\n"
     ]
    },
    {
     "name": "stderr",
     "output_type": "stream",
     "text": [
      "Training: 100%|████████████████████████████████| 30/30 [00:07<00:00,  3.94it/s]\n"
     ]
    },
    {
     "name": "stdout",
     "output_type": "stream",
     "text": [
      "Epoch 45, Loss: 0.34656302829583485, Training Accuracy: 86.25%\n"
     ]
    },
    {
     "name": "stderr",
     "output_type": "stream",
     "text": [
      "Validation: 100%|████████████████████████████████| 8/8 [00:00<00:00,  8.09it/s]\n"
     ]
    },
    {
     "name": "stdout",
     "output_type": "stream",
     "text": [
      "Validation Accuracy: 62.08%, Validation Loss: 2.705583333969116\n"
     ]
    },
    {
     "name": "stderr",
     "output_type": "stream",
     "text": [
      "Training: 100%|████████████████████████████████| 30/30 [00:07<00:00,  3.94it/s]\n"
     ]
    },
    {
     "name": "stdout",
     "output_type": "stream",
     "text": [
      "Epoch 46, Loss: 0.3463477291166782, Training Accuracy: 86.25%\n"
     ]
    },
    {
     "name": "stderr",
     "output_type": "stream",
     "text": [
      "Validation: 100%|████████████████████████████████| 8/8 [00:00<00:00,  8.11it/s]\n"
     ]
    },
    {
     "name": "stdout",
     "output_type": "stream",
     "text": [
      "Validation Accuracy: 62.08%, Validation Loss: 2.603400707244873\n"
     ]
    },
    {
     "name": "stderr",
     "output_type": "stream",
     "text": [
      "Training: 100%|████████████████████████████████| 30/30 [00:07<00:00,  3.94it/s]\n"
     ]
    },
    {
     "name": "stdout",
     "output_type": "stream",
     "text": [
      "Epoch 47, Loss: 0.3456607316931089, Training Accuracy: 86.25%\n"
     ]
    },
    {
     "name": "stderr",
     "output_type": "stream",
     "text": [
      "Validation: 100%|████████████████████████████████| 8/8 [00:00<00:00,  8.10it/s]\n"
     ]
    },
    {
     "name": "stdout",
     "output_type": "stream",
     "text": [
      "Validation Accuracy: 62.08%, Validation Loss: 2.5879461765289307\n"
     ]
    },
    {
     "name": "stderr",
     "output_type": "stream",
     "text": [
      "Training: 100%|████████████████████████████████| 30/30 [00:07<00:00,  3.94it/s]\n"
     ]
    },
    {
     "name": "stdout",
     "output_type": "stream",
     "text": [
      "Epoch 48, Loss: 0.34812179803848264, Training Accuracy: 86.25%\n"
     ]
    },
    {
     "name": "stderr",
     "output_type": "stream",
     "text": [
      "Validation: 100%|████████████████████████████████| 8/8 [00:00<00:00,  8.12it/s]\n"
     ]
    },
    {
     "name": "stdout",
     "output_type": "stream",
     "text": [
      "Validation Accuracy: 62.50%, Validation Loss: 2.7024459838867188\n"
     ]
    },
    {
     "name": "stderr",
     "output_type": "stream",
     "text": [
      "Training: 100%|████████████████████████████████| 30/30 [00:07<00:00,  3.94it/s]\n"
     ]
    },
    {
     "name": "stdout",
     "output_type": "stream",
     "text": [
      "Epoch 49, Loss: 0.34573291763663294, Training Accuracy: 86.25%\n"
     ]
    },
    {
     "name": "stderr",
     "output_type": "stream",
     "text": [
      "Validation: 100%|████████████████████████████████| 8/8 [00:00<00:00,  8.11it/s]\n"
     ]
    },
    {
     "name": "stdout",
     "output_type": "stream",
     "text": [
      "Validation Accuracy: 62.08%, Validation Loss: 2.5643699169158936\n"
     ]
    },
    {
     "name": "stderr",
     "output_type": "stream",
     "text": [
      "Training: 100%|████████████████████████████████| 30/30 [00:07<00:00,  3.94it/s]\n"
     ]
    },
    {
     "name": "stdout",
     "output_type": "stream",
     "text": [
      "Epoch 50, Loss: 0.34642806748549143, Training Accuracy: 86.25%\n"
     ]
    },
    {
     "name": "stderr",
     "output_type": "stream",
     "text": [
      "Validation: 100%|████████████████████████████████| 8/8 [00:00<00:00,  8.12it/s]"
     ]
    },
    {
     "name": "stdout",
     "output_type": "stream",
     "text": [
      "Validation Accuracy: 62.50%, Validation Loss: 2.5867395401000977\n"
     ]
    },
    {
     "name": "stderr",
     "output_type": "stream",
     "text": [
      "\n"
     ]
    }
   ],
   "source": [
    "Epochs = 50\n",
    "criterion = nn.CrossEntropyLoss()\n",
    "optimizer = optim.Adam(model.parameters(),lr=0.0001)\n",
    "best = float('-inf')\n",
    "history = {'val_loss':[],'val_acc':[],'train_loss':[], 'train_acc':[]}\n",
    "for epoch in range(Epochs):\n",
    "    model.train()\n",
    "    running_loss = 0.0\n",
    "    correct_train = 0.0\n",
    "    total_train = 0.0\n",
    "    for images,labels in tqdm(train_loader,total=len(train_loader),desc= \"Training\"):\n",
    "        images, labels = images.to(device), labels.to(device)\n",
    "        optimizer.zero_grad()\n",
    "        outputs = model(images)\n",
    "        _,predicted = torch.max(outputs.data,1)\n",
    "        total_train+=labels.size(0)\n",
    "        labels_class_indices = torch.argmax(labels, dim=1)\n",
    "        loss = criterion(outputs,labels)\n",
    "        loss.backward()\n",
    "        optimizer.step()\n",
    "        running_loss+=loss.item()\n",
    "        correct_train+=(predicted == labels_class_indices).sum().item()\n",
    "\n",
    "    training_accuracy = 100*correct_train/total_train\n",
    "    training_loss = running_loss/len(train_loader)\n",
    "    history['train_acc'].append(np.round(training_accuracy,2))\n",
    "    history['train_loss'].append(np.round(training_loss,2))\n",
    "    if training_accuracy>best:\n",
    "        best = training_accuracy\n",
    "        torch.save(model.state_dict(), 'best_model.pth')\n",
    "    print(f\"Epoch {epoch+1}, Loss: {training_loss}, Training Accuracy: {training_accuracy:.2f}%\")\n",
    "\n",
    "    model.eval()\n",
    "    correct_val=0.0\n",
    "    total_val = 0.0\n",
    "    val_loss = 0.0\n",
    "    with torch.no_grad():\n",
    "        for images, labels in tqdm(val_loader,total=len(val_loader),desc=\"Validation\"):\n",
    "            images, labels = images.to(device), labels.to(device)\n",
    "            outputs = model(images)\n",
    "            outputs = model(images)\n",
    "            _,predicted = torch.max(outputs.data,1)\n",
    "            total_train+=labels.size(0)\n",
    "            labels_class_indices = torch.argmax(labels, dim=1)\n",
    "            loss = criterion(outputs,labels)\n",
    "            val_loss+=loss\n",
    "            correct_val+=(predicted == labels_class_indices).sum().item()\n",
    "            total_val+=labels.size(0)\n",
    "        val_accuracy = 100 * correct_val / total_val\n",
    "        val_loss = val_loss/len(val_loader)\n",
    "        history['val_acc'].append(np.round(val_accuracy,2))\n",
    "        history['val_loss'].append(np.round(val_loss.item(),2))\n",
    "        print(f'Validation Accuracy: {val_accuracy:.2f}%, Validation Loss: {val_loss}')"
   ]
  },
  {
   "cell_type": "code",
   "execution_count": null,
   "id": "7e98f448-bdf9-4907-9f60-b0203f576e96",
   "metadata": {},
   "outputs": [],
   "source": []
  },
  {
   "cell_type": "code",
   "execution_count": 16,
   "id": "dc1b32f2-ece8-43ee-90a3-cbb5e3cda0bd",
   "metadata": {
    "scrolled": true
   },
   "outputs": [
    {
     "data": {
      "text/plain": [
       "{'val_loss': [1.55,\n",
       "  1.28,\n",
       "  1.34,\n",
       "  1.41,\n",
       "  1.37,\n",
       "  1.66,\n",
       "  1.38,\n",
       "  2.03,\n",
       "  1.53,\n",
       "  1.52,\n",
       "  2.14,\n",
       "  2.04,\n",
       "  1.76,\n",
       "  2.03,\n",
       "  1.64,\n",
       "  2.17,\n",
       "  2.02,\n",
       "  2.43,\n",
       "  2.21,\n",
       "  2.46,\n",
       "  2.23,\n",
       "  2.41,\n",
       "  2.53,\n",
       "  2.51,\n",
       "  2.47,\n",
       "  3.19,\n",
       "  2.13,\n",
       "  2.06,\n",
       "  2.21,\n",
       "  1.59,\n",
       "  1.97,\n",
       "  2.17,\n",
       "  2.22,\n",
       "  2.27,\n",
       "  2.44,\n",
       "  2.56,\n",
       "  2.32,\n",
       "  2.35,\n",
       "  2.45,\n",
       "  2.61,\n",
       "  2.76,\n",
       "  2.62,\n",
       "  2.46,\n",
       "  2.51,\n",
       "  2.71,\n",
       "  2.6,\n",
       "  2.59,\n",
       "  2.7,\n",
       "  2.56,\n",
       "  2.59],\n",
       " 'val_acc': [38.33,\n",
       "  48.75,\n",
       "  51.25,\n",
       "  52.92,\n",
       "  55.42,\n",
       "  55.0,\n",
       "  52.92,\n",
       "  53.75,\n",
       "  55.83,\n",
       "  61.25,\n",
       "  60.0,\n",
       "  54.58,\n",
       "  54.58,\n",
       "  57.08,\n",
       "  59.58,\n",
       "  56.67,\n",
       "  56.67,\n",
       "  58.75,\n",
       "  57.5,\n",
       "  58.33,\n",
       "  60.0,\n",
       "  60.0,\n",
       "  59.58,\n",
       "  61.25,\n",
       "  60.83,\n",
       "  58.33,\n",
       "  57.5,\n",
       "  57.5,\n",
       "  60.0,\n",
       "  57.5,\n",
       "  60.0,\n",
       "  60.42,\n",
       "  61.67,\n",
       "  62.08,\n",
       "  61.67,\n",
       "  61.67,\n",
       "  62.08,\n",
       "  61.67,\n",
       "  62.08,\n",
       "  62.08,\n",
       "  62.08,\n",
       "  62.08,\n",
       "  62.08,\n",
       "  62.08,\n",
       "  62.08,\n",
       "  62.08,\n",
       "  62.08,\n",
       "  62.5,\n",
       "  62.08,\n",
       "  62.5],\n",
       " 'train_loss': [1.64,\n",
       "  1.33,\n",
       "  1.05,\n",
       "  0.86,\n",
       "  0.73,\n",
       "  0.64,\n",
       "  0.57,\n",
       "  0.58,\n",
       "  0.62,\n",
       "  0.5,\n",
       "  0.42,\n",
       "  0.49,\n",
       "  0.59,\n",
       "  0.43,\n",
       "  0.41,\n",
       "  0.4,\n",
       "  0.41,\n",
       "  0.43,\n",
       "  0.41,\n",
       "  0.38,\n",
       "  0.38,\n",
       "  0.36,\n",
       "  0.36,\n",
       "  0.36,\n",
       "  0.38,\n",
       "  0.36,\n",
       "  0.44,\n",
       "  0.47,\n",
       "  0.4,\n",
       "  0.42,\n",
       "  0.39,\n",
       "  0.37,\n",
       "  0.35,\n",
       "  0.35,\n",
       "  0.35,\n",
       "  0.35,\n",
       "  0.35,\n",
       "  0.35,\n",
       "  0.35,\n",
       "  0.35,\n",
       "  0.35,\n",
       "  0.35,\n",
       "  0.35,\n",
       "  0.35,\n",
       "  0.35,\n",
       "  0.35,\n",
       "  0.35,\n",
       "  0.35,\n",
       "  0.35,\n",
       "  0.35],\n",
       " 'train_acc': [29.69,\n",
       "  46.67,\n",
       "  58.02,\n",
       "  67.71,\n",
       "  71.67,\n",
       "  75.73,\n",
       "  78.65,\n",
       "  78.96,\n",
       "  79.06,\n",
       "  81.67,\n",
       "  83.44,\n",
       "  82.4,\n",
       "  79.69,\n",
       "  83.75,\n",
       "  84.48,\n",
       "  85.1,\n",
       "  84.17,\n",
       "  83.33,\n",
       "  85.0,\n",
       "  85.31,\n",
       "  85.42,\n",
       "  85.83,\n",
       "  85.94,\n",
       "  85.83,\n",
       "  84.9,\n",
       "  85.73,\n",
       "  83.44,\n",
       "  83.02,\n",
       "  84.69,\n",
       "  84.58,\n",
       "  85.1,\n",
       "  85.62,\n",
       "  86.15,\n",
       "  86.25,\n",
       "  86.25,\n",
       "  86.25,\n",
       "  86.25,\n",
       "  86.25,\n",
       "  86.25,\n",
       "  86.25,\n",
       "  86.25,\n",
       "  86.25,\n",
       "  86.25,\n",
       "  86.25,\n",
       "  86.25,\n",
       "  86.25,\n",
       "  86.25,\n",
       "  86.25,\n",
       "  86.25,\n",
       "  86.25]}"
      ]
     },
     "execution_count": 16,
     "metadata": {},
     "output_type": "execute_result"
    }
   ],
   "source": [
    "history"
   ]
  },
  {
   "cell_type": "code",
   "execution_count": 17,
   "id": "831886fb-4c0b-4055-b448-60a93448994a",
   "metadata": {},
   "outputs": [],
   "source": [
    "import matplotlib.pyplot as plt"
   ]
  },
  {
   "cell_type": "code",
   "execution_count": 19,
   "id": "0281951f-2c6d-4542-a178-ff692d8afc36",
   "metadata": {},
   "outputs": [
    {
     "data": {
      "image/png": "[encoded data removed]",
      "text/plain": [
       "<Figure size 640x480 with 1 Axes>"
      ]
     },
     "metadata": {},
     "output_type": "display_data"
    }
   ],
   "source": [
    "plt.plot(history['train_acc'],label='training accuracy')\n",
    "plt.plot(history['val_acc'],label = 'validation accuracy')\n",
    "plt.legend()\n",
    "plt.show()"
   ]
  },
  {
   "cell_type": "code",
   "execution_count": 20,
   "id": "f1d98b5b-2b66-4bab-a599-97f37939d71a",
   "metadata": {},
   "outputs": [
    {
     "data": {
      "image/png": "[encoded data removed]",
      "text/plain": [
       "<Figure size 640x480 with 1 Axes>"
      ]
     },
     "metadata": {},
     "output_type": "display_data"
    }
   ],
   "source": [
    "plt.plot(history['train_loss'],label='training loss')\n",
    "plt.plot(history['val_loss'],label = 'validation loss')\n",
    "plt.legend()\n",
    "plt.show()"
   ]
  },
  {
   "cell_type": "code",
   "execution_count": 21,
   "id": "5b5fe6ea-41d3-425f-96f2-7d5f641600be",
   "metadata": {},
   "outputs": [],
   "source": [
    "x_test_tensor = torch.from_numpy(x_test).float()  # Ensure it's float\n",
    "y_test_tensor = torch.from_numpy(y_test).float()   # Ensure it's long (for classification)\n",
    "# Create DataLoader\n",
    "x_test_tensor = x_test_tensor.permute(0, 3, 1, 2)\n",
    "test_dataset = TensorDataset(x_test_tensor,y_test_tensor)\n",
    "batch_size = 32  # Choose an appropriate batch size\n",
    "# train_loader = DataLoader(train_dataset, batch_size=batch_size, shuffle=True)\n",
    "test_loader = DataLoader(test_dataset, batch_size=batch_size,shuffle=True)"
   ]
  },
  {
   "cell_type": "code",
   "execution_count": 24,
   "id": "7fae5ec6-8ac0-421c-b83e-eed345aa1afc",
   "metadata": {},
   "outputs": [
    {
     "name": "stderr",
     "output_type": "stream",
     "text": [
      "Validation: 100%|██████████████████████████████| 18/18 [00:02<00:00,  7.70it/s]"
     ]
    },
    {
     "name": "stdout",
     "output_type": "stream",
     "text": [
      "testing Accuracy: 56.97%, Validation Loss: 3.2457754611968994\n"
     ]
    },
    {
     "name": "stderr",
     "output_type": "stream",
     "text": [
      "\n"
     ]
    }
   ],
   "source": [
    "model.eval()\n",
    "correct_val=0.0\n",
    "total_val = 0.0\n",
    "val_loss = 0.0\n",
    "with torch.no_grad():\n",
    "    for images, labels in tqdm(test_loader,total=len(test_loader),desc=\"Validation\"):\n",
    "        images, labels = images.to(device), labels.to(device)\n",
    "        # print(images.shape)\n",
    "        outputs = model(images)\n",
    "        outputs = model(images)\n",
    "        _,predicted = torch.max(outputs.data,1)\n",
    "        total_train+=labels.size(0)\n",
    "        labels_class_indices = torch.argmax(labels, dim=1)\n",
    "        loss = criterion(outputs,labels)\n",
    "        val_loss+=loss\n",
    "        correct_val+=(predicted == labels_class_indices).sum().item()\n",
    "        total_val+=labels.size(0)\n",
    "    val_accuracy = 100 * correct_val / total_val\n",
    "    print(f'testing Accuracy: {val_accuracy:.2f}%, Validation Loss: {val_loss/len(test_loader)}')"
   ]
  },
  {
   "cell_type": "code",
   "execution_count": null,
   "id": "6b1311f2-3436-440f-8ea0-70b36f3dd2ae",
   "metadata": {},
   "outputs": [],
   "source": []
  }
 ],
 "metadata": {
  "kernelspec": {
   "display_name": "Python 3 (ipykernel)",
   "language": "python",
   "name": "python3"
  },
  "language_info": {
   "codemirror_mode": {
    "name": "ipython",
    "version": 3
   },
   "file_extension": ".py",
   "mimetype": "text/x-python",
   "name": "python",
   "nbconvert_exporter": "python",
   "pygments_lexer": "ipython3",
   "version": "3.10.14"
  }
 },
 "nbformat": 4,
 "nbformat_minor": 5
}
